{
 "cells": [
  {
   "cell_type": "code",
   "execution_count": 2,
   "id": "86893a8b",
   "metadata": {},
   "outputs": [],
   "source": [
    "import os\n",
    "import django\n",
    "os.environ.setdefault('DJANGO_SETTINGS_MODULE', 'rest.settings')\n",
    "os.environ[\"DJANGO_ALLOW_ASYNC_UNSAFE\"] = \"true\"\n",
    "django.setup()"
   ]
  },
  {
   "cell_type": "code",
   "execution_count": 3,
   "id": "43c64a98",
   "metadata": {},
   "outputs": [],
   "source": [
    "from FirstApp.models import Animals"
   ]
  },
  {
   "cell_type": "code",
   "execution_count": 4,
   "id": "ff860647",
   "metadata": {},
   "outputs": [
    {
     "data": {
      "text/plain": [
       "<QuerySet [<Animals: Animals object (1)>]>"
      ]
     },
     "execution_count": 4,
     "metadata": {},
     "output_type": "execute_result"
    }
   ],
   "source": [
    "Animals.objects.all()"
   ]
  },
  {
   "cell_type": "code",
   "execution_count": 7,
   "id": "ad85cab6",
   "metadata": {},
   "outputs": [
    {
     "name": "stdout",
     "output_type": "stream",
     "text": [
      "id:  1\n",
      "name:  Cat\n",
      "weight:  4\n"
     ]
    }
   ],
   "source": [
    "animals = Animals.objects.all()\n",
    "print(\"id: \", animals[0].id)\n",
    "print(\"name: \", animals[0].name)\n",
    "print(\"weight: \", animals[0].weight)"
   ]
  },
  {
   "cell_type": "code",
   "execution_count": null,
   "id": "0fe8911c",
   "metadata": {},
   "outputs": [],
   "source": []
  }
 ],
 "metadata": {
  "kernelspec": {
   "display_name": "Django Shell-Plus",
   "language": "python",
   "name": "django_extensions"
  },
  "language_info": {
   "codemirror_mode": {
    "name": "ipython",
    "version": 3
   },
   "file_extension": ".py",
   "mimetype": "text/x-python",
   "name": "python",
   "nbconvert_exporter": "python",
   "pygments_lexer": "ipython3",
   "version": "3.7.6"
  }
 },
 "nbformat": 4,
 "nbformat_minor": 5
}
