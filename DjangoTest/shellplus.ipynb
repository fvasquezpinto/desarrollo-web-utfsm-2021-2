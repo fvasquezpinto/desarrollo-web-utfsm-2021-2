{
 "cells": [
  {
   "cell_type": "code",
   "execution_count": 1,
   "id": "86893a8b",
   "metadata": {},
   "outputs": [],
   "source": [
    "import os\n",
    "import django\n",
    "os.environ.setdefault('DJANGO_SETTINGS_MODULE', 'rest.settings')\n",
    "os.environ[\"DJANGO_ALLOW_ASYNC_UNSAFE\"] = \"true\"\n",
    "django.setup()"
   ]
  },
  {
   "cell_type": "code",
   "execution_count": 2,
   "id": "43c64a98",
   "metadata": {},
   "outputs": [],
   "source": [
    "from FirstApp.models import Animals"
   ]
  },
  {
   "cell_type": "code",
   "execution_count": 3,
   "id": "ff860647",
   "metadata": {},
   "outputs": [
    {
     "data": {
      "text/plain": [
       "<QuerySet [<Animals: Animals object (1)>, <Animals: Animals object (2)>, <Animals: Animals object (3)>, <Animals: Animals object (4)>]>"
      ]
     },
     "execution_count": 3,
     "metadata": {},
     "output_type": "execute_result"
    }
   ],
   "source": [
    "Animals.objects.all()"
   ]
  },
  {
   "cell_type": "code",
   "execution_count": 7,
   "id": "ad85cab6",
   "metadata": {},
   "outputs": [
    {
     "name": "stdout",
     "output_type": "stream",
     "text": [
      "id:  1\n",
      "name:  Cat\n",
      "weight:  4\n"
     ]
    }
   ],
   "source": [
    "animals = Animals.objects.all()\n",
    "print(\"id: \", animals[0].id)\n",
    "print(\"name: \", animals[0].name)\n",
    "print(\"weight: \", animals[0].weight)"
   ]
  },
  {
   "cell_type": "code",
   "execution_count": 8,
   "id": "0fe8911c",
   "metadata": {},
   "outputs": [
    {
     "name": "stdout",
     "output_type": "stream",
     "text": [
      "id:  1\n",
      "name:  Cat\n",
      "weight:  4\n",
      "id:  2\n",
      "name:  Cat\n",
      "weight:  4\n",
      "id:  3\n",
      "name:  dog\n",
      "weight:  4\n",
      "id:  4\n",
      "name:  dog\n",
      "weight:  4\n"
     ]
    }
   ],
   "source": [
    "for animal in animals:\n",
    "    print(\"id: \", animal.id)\n",
    "    print(\"name: \", animal.name)\n",
    "    print(\"weight: \", animal.weight)"
   ]
  },
  {
   "cell_type": "code",
   "execution_count": null,
   "id": "8dac0463",
   "metadata": {},
   "outputs": [],
   "source": []
  }
 ],
 "metadata": {
  "kernelspec": {
   "display_name": "Django Shell-Plus",
   "language": "python",
   "name": "django_extensions"
  },
  "language_info": {
   "codemirror_mode": {
    "name": "ipython",
    "version": 3
   },
   "file_extension": ".py",
   "mimetype": "text/x-python",
   "name": "python",
   "nbconvert_exporter": "python",
   "pygments_lexer": "ipython3",
   "version": "3.7.6"
  }
 },
 "nbformat": 4,
 "nbformat_minor": 5
}
